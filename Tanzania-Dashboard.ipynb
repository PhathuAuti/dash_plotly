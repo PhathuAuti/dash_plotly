{
 "cells": [
  {
   "cell_type": "code",
   "execution_count": 1,
   "metadata": {},
   "outputs": [],
   "source": [
    "import dash\n",
    "import dash_core_components as dcc\n",
    "import dash_html_components as html\n",
    "import plotly.offline as pyo\n",
    "import plotly.graph_objs as go\n",
    "# import plotly.express as px\n",
    "import pandas as pd\n",
    "import numpy as np"
   ]
  },
  {
   "cell_type": "code",
   "execution_count": 2,
   "metadata": {},
   "outputs": [],
   "source": [
    "mob_money = pd.read_csv('training.csv')"
   ]
  },
  {
   "cell_type": "code",
   "execution_count": 3,
   "metadata": {},
   "outputs": [],
   "source": [
    "# changing index cols with rename()\n",
    "mob_money = mob_money.rename(columns = {\"Q1\": \"Age\",\n",
    "                                  \"Q2\": \"Gender\",\n",
    "                                  \"Q3\": \"Marital Status\",\n",
    "                                  \"Q4\": \"Highest Qualification\",\n",
    "                                  \"Q5\": \"Living Conditions\",\n",
    "                                  \"Q6\": \"Land Ownership\",\n",
    "                                  \"Q7\": \"Cellphone Ownership\",\n",
    "                                  \"Q8_1\": \"Salaries/Wages\",\n",
    "                                  \"Q8_2\": \"Trading\",\n",
    "                                  \"Q8_3\": \"Service Provider\",\n",
    "                                  \"Q8_4\": \"Piece Jobs\",\n",
    "                                  \"Q8_5\": \"Rental Income\",\n",
    "                                  \"Q8_6\": \"Investments\",\n",
    "                                  \"Q8_7\": \"Pension\",\n",
    "                                  \"Q8_8\": \"Social Welfare\",\n",
    "                                  \"Q8_9\": \"Rely on Someone Else\",\n",
    "                                  \"Q8_10\": \"No Money\",\n",
    "                                  \"Q8_11\": \"Other\",\n",
    "                                  \"Q9\": \"Employer\",\n",
    "                                  \"Q10\": \"Trading Products\",\n",
    "                                  \"Q11\": \"Services Provided\",\n",
    "                                  \"Q12\": \"Sent Money(12months)\",\n",
    "                                  \"Q13\": \"Last Sent Money\",\n",
    "                                  \"Q14\": \"Received Money(12months)\",\n",
    "                                  \"Q15\": \"Last Received Money\",\n",
    "                                  \"Q16\": \"Mobile Money for GnS (12months)\",\n",
    "                                  \"Q17\": \"Mobile Money for Bills (12months)\",\n",
    "                                  \"Q18\": \"Literacy in Kiswhahili\",\n",
    "                                  \"Q19\": \"Literacy in English\"})\n",
    "\n",
    "# changing columns using .columns()\n",
    "mob_money.columns = [\"ID\",\"Age\", \"Gender\",\"Marital Status\",\"Highest Qualification\",\"Living Conditions\",\n",
    "                    \"Land Ownership\", \"Cellphone Ownership\", \"Salaries/Wages\",\"Trading\", \"Service Provider\",\n",
    "                    \"Piece Jobs\", \"Rental Income\",\"Investments\", \"Pension\",\"Social Welfare\",\n",
    "                    \"Rely on Someone Else\", \"No Money\",\"Other\",\"Employer\",\"Trading Products\",\n",
    "                    \"Services Provided\",\"Sent Money(12months)\",\"Last Sent Money\",\"Received Money(12months)\",\n",
    "                    \"Last Received Money\",\"Mobile Money for GnS (12months)\", \"Mobile Money for Bills (12months)\",\n",
    "                    \"Literacy in Kiswhahili\",\"Literacy in English\",\"Latitude\",\"Longitude\",\"mobile_money\",\"savings\",\n",
    "                    \"borrowing\",\"insurance\",\"mobile_money_classification\"]"
   ]
  },
  {
   "cell_type": "code",
   "execution_count": 4,
   "metadata": {},
   "outputs": [],
   "source": [
    "# changing the values in columns from intergers to representative strings\n",
    "mob_money['Gender']= ['Female' if each==2 else 'Male' for each in mob_money['Gender']]\n",
    "mob_money['Land Ownership']= ['No' if each==2 else 'Yes' for each in mob_money['Land Ownership']]\n",
    "mob_money['Sent Money(12months)']= ['No' if each==2 else 'Yes' for each in mob_money['Sent Money(12months)']]\n",
    "mob_money['Received Money(12months)']= ['No' if each==2 else 'Yes' for each in mob_money['Received Money(12months)']]\n",
    "mob_money['Last Sent Money'] = mob_money['Last Sent Money'].map({-1: \"N/A\", 4: \"90Days\", 2: \"7Days\", 5: \"90+Days\", 3: \"30Days\", 6: \"6Mnth+\", 1: \"Y/Today\"})\n",
    "mob_money['Last Received Money'] = mob_money['Last Received Money'].map({-1: \"N/A\", 5: \"90+Days\", 1: \"Y/Today\", 3: \"30Days\", 4: \"90Days\", 6: \"6Mnth+\", 2: \"7Days\"})\n",
    "mob_money['Mobile Money for GnS (12months)'] = mob_money['Mobile Money for GnS (12months)'].map({-1: \"N/A\", 1: \"Never\", 4: \"Monthly\", 5: \"LessMnthly\", 3: \"Weekly\", 2: \"Daily\"})\n",
    "mob_money['Mobile Money for Bills (12months)'] = mob_money['Mobile Money for Bills (12months)'].map({-1: \"N/A\", 4: \"Monthly\", 1: \"Never\", 2: \"Daily\", 5: \"LessMnthly\", 3: \"Weekly\"})\n",
    "mob_money['mobile_money']= ['No' if each==0 else 'Yes' for each in mob_money['mobile_money']]\n",
    "mob_money['mobile_money_classification'] = mob_money['mobile_money_classification'].map({0: \"None\", 3: \"MM_Plus\", 2: \"MM_Only\", 1: \"Other_Only\"})\n",
    "mob_money['Marital Status'] = mob_money['Marital Status'].map({3: \"Widowed\", 1: \"Married\", 4: \"Single\", 2: \"Divorced\"})"
   ]
  },
  {
   "cell_type": "code",
   "execution_count": 5,
   "metadata": {},
   "outputs": [],
   "source": [
    "females = mob_money[mob_money['Gender'] == 'Female']\n",
    "males = mob_money[mob_money['Gender'] == 'Male']\n",
    "f_none = len(females[females.mobile_money_classification == \"None\"])\n",
    "f_plus = len(females[females.mobile_money_classification == \"MM_Plus\"])\n",
    "f_only = len(females[females.mobile_money_classification == \"MM_Only\"])\n",
    "f_other = len(females[females.mobile_money_classification == \"Other_Only\"])\n",
    "\n",
    "m_none = len(males[males.mobile_money_classification == \"None\"])\n",
    "m_plus = len(males[males.mobile_money_classification == \"MM_Plus\"])\n",
    "m_only = len(males[males.mobile_money_classification == \"MM_Only\"])\n",
    "m_other = len(males[males.mobile_money_classification == \"Other_Only\"])"
   ]
  },
  {
   "cell_type": "code",
   "execution_count": 6,
   "metadata": {},
   "outputs": [
    {
     "data": {
      "text/plain": [
       "Trading                 4470\n",
       "Piece Jobs              2393\n",
       "Rely on Someone Else    1112\n",
       "Salaries/Wages           441\n",
       "Service Provider         412\n",
       "No Money                 410\n",
       "Social Welfare           131\n",
       "Rental Income             67\n",
       "Investments               34\n",
       "Pension                   34\n",
       "Other                      9\n",
       "Name: Income_Type, dtype: int64"
      ]
     },
     "execution_count": 6,
     "metadata": {},
     "output_type": "execute_result"
    }
   ],
   "source": [
    "# creating an incomes dataframe to compare incomes with mobile money usage\n",
    "incomes = mob_money.loc[:, 'Salaries/Wages':'Other']\n",
    "incomes['mobile_money'] = mob_money['mobile_money']\n",
    "incomes['Sent Money(12months)'] = mob_money['Sent Money(12months)']\n",
    "incomes['Received Money(12months)'] = mob_money['Received Money(12months)']\n",
    "incomes = pd.melt(incomes, id_vars = ['mobile_money', 'Sent Money(12months)', 'Received Money(12months)'], var_name='Income_Type') \n",
    "incomes = incomes[incomes['value'] == 1]\n",
    "incomes.Income_Type.value_counts()"
   ]
  },
  {
   "cell_type": "code",
   "execution_count": 9,
   "metadata": {},
   "outputs": [
    {
     "data": {
      "text/html": [
       "<div>\n",
       "<style scoped>\n",
       "    .dataframe tbody tr th:only-of-type {\n",
       "        vertical-align: middle;\n",
       "    }\n",
       "\n",
       "    .dataframe tbody tr th {\n",
       "        vertical-align: top;\n",
       "    }\n",
       "\n",
       "    .dataframe thead th {\n",
       "        text-align: right;\n",
       "    }\n",
       "</style>\n",
       "<table border=\"1\" class=\"dataframe\">\n",
       "  <thead>\n",
       "    <tr style=\"text-align: right;\">\n",
       "      <th></th>\n",
       "      <th>index</th>\n",
       "      <th>mobile_money_classification</th>\n",
       "    </tr>\n",
       "  </thead>\n",
       "  <tbody>\n",
       "    <tr>\n",
       "      <th>0</th>\n",
       "      <td>MM_Plus</td>\n",
       "      <td>3126</td>\n",
       "    </tr>\n",
       "    <tr>\n",
       "      <th>1</th>\n",
       "      <td>Other_Only</td>\n",
       "      <td>1778</td>\n",
       "    </tr>\n",
       "    <tr>\n",
       "      <th>2</th>\n",
       "      <td>None</td>\n",
       "      <td>1386</td>\n",
       "    </tr>\n",
       "    <tr>\n",
       "      <th>3</th>\n",
       "      <td>MM_Only</td>\n",
       "      <td>804</td>\n",
       "    </tr>\n",
       "  </tbody>\n",
       "</table>\n",
       "</div>"
      ],
      "text/plain": [
       "        index  mobile_money_classification\n",
       "0     MM_Plus                         3126\n",
       "1  Other_Only                         1778\n",
       "2        None                         1386\n",
       "3     MM_Only                          804"
      ]
     },
     "execution_count": 9,
     "metadata": {},
     "output_type": "execute_result"
    }
   ],
   "source": [
    "chart1 = pd.DataFrame(mob_money[\"mobile_money_classification\"].value_counts()).reset_index()\n",
    "chart1"
   ]
  },
  {
   "cell_type": "code",
   "execution_count": 14,
   "metadata": {},
   "outputs": [
    {
     "data": {
      "text/html": [
       "<div>\n",
       "<style scoped>\n",
       "    .dataframe tbody tr th:only-of-type {\n",
       "        vertical-align: middle;\n",
       "    }\n",
       "\n",
       "    .dataframe tbody tr th {\n",
       "        vertical-align: top;\n",
       "    }\n",
       "\n",
       "    .dataframe thead th {\n",
       "        text-align: right;\n",
       "    }\n",
       "</style>\n",
       "<table border=\"1\" class=\"dataframe\">\n",
       "  <thead>\n",
       "    <tr style=\"text-align: right;\">\n",
       "      <th></th>\n",
       "      <th>index</th>\n",
       "      <th>Mobile Money for GnS (12months)</th>\n",
       "    </tr>\n",
       "  </thead>\n",
       "  <tbody>\n",
       "    <tr>\n",
       "      <th>0</th>\n",
       "      <td>Never</td>\n",
       "      <td>5089</td>\n",
       "    </tr>\n",
       "    <tr>\n",
       "      <th>1</th>\n",
       "      <td>LessMnthly</td>\n",
       "      <td>1137</td>\n",
       "    </tr>\n",
       "    <tr>\n",
       "      <th>2</th>\n",
       "      <td>Monthly</td>\n",
       "      <td>543</td>\n",
       "    </tr>\n",
       "    <tr>\n",
       "      <th>3</th>\n",
       "      <td>Weekly</td>\n",
       "      <td>248</td>\n",
       "    </tr>\n",
       "    <tr>\n",
       "      <th>4</th>\n",
       "      <td>Daily</td>\n",
       "      <td>77</td>\n",
       "    </tr>\n",
       "  </tbody>\n",
       "</table>\n",
       "</div>"
      ],
      "text/plain": [
       "        index  Mobile Money for GnS (12months)\n",
       "0       Never                             5089\n",
       "1  LessMnthly                             1137\n",
       "2     Monthly                              543\n",
       "3      Weekly                              248\n",
       "4       Daily                               77"
      ]
     },
     "execution_count": 14,
     "metadata": {},
     "output_type": "execute_result"
    }
   ],
   "source": [
    "chart2 = pd.DataFrame(mob_money['Mobile Money for GnS (12months)'].value_counts()).reset_index()\n",
    "chart2"
   ]
  },
  {
   "cell_type": "code",
   "execution_count": 15,
   "metadata": {},
   "outputs": [
    {
     "data": {
      "text/html": [
       "<div>\n",
       "<style scoped>\n",
       "    .dataframe tbody tr th:only-of-type {\n",
       "        vertical-align: middle;\n",
       "    }\n",
       "\n",
       "    .dataframe tbody tr th {\n",
       "        vertical-align: top;\n",
       "    }\n",
       "\n",
       "    .dataframe thead th {\n",
       "        text-align: right;\n",
       "    }\n",
       "</style>\n",
       "<table border=\"1\" class=\"dataframe\">\n",
       "  <thead>\n",
       "    <tr style=\"text-align: right;\">\n",
       "      <th></th>\n",
       "      <th>index</th>\n",
       "      <th>Income_Type</th>\n",
       "    </tr>\n",
       "  </thead>\n",
       "  <tbody>\n",
       "    <tr>\n",
       "      <th>0</th>\n",
       "      <td>Trading</td>\n",
       "      <td>4470</td>\n",
       "    </tr>\n",
       "    <tr>\n",
       "      <th>1</th>\n",
       "      <td>Piece Jobs</td>\n",
       "      <td>2393</td>\n",
       "    </tr>\n",
       "    <tr>\n",
       "      <th>2</th>\n",
       "      <td>Rely on Someone Else</td>\n",
       "      <td>1112</td>\n",
       "    </tr>\n",
       "    <tr>\n",
       "      <th>3</th>\n",
       "      <td>Salaries/Wages</td>\n",
       "      <td>441</td>\n",
       "    </tr>\n",
       "    <tr>\n",
       "      <th>4</th>\n",
       "      <td>Service Provider</td>\n",
       "      <td>412</td>\n",
       "    </tr>\n",
       "    <tr>\n",
       "      <th>5</th>\n",
       "      <td>No Money</td>\n",
       "      <td>410</td>\n",
       "    </tr>\n",
       "    <tr>\n",
       "      <th>6</th>\n",
       "      <td>Social Welfare</td>\n",
       "      <td>131</td>\n",
       "    </tr>\n",
       "    <tr>\n",
       "      <th>7</th>\n",
       "      <td>Rental Income</td>\n",
       "      <td>67</td>\n",
       "    </tr>\n",
       "    <tr>\n",
       "      <th>8</th>\n",
       "      <td>Investments</td>\n",
       "      <td>34</td>\n",
       "    </tr>\n",
       "    <tr>\n",
       "      <th>9</th>\n",
       "      <td>Pension</td>\n",
       "      <td>34</td>\n",
       "    </tr>\n",
       "    <tr>\n",
       "      <th>10</th>\n",
       "      <td>Other</td>\n",
       "      <td>9</td>\n",
       "    </tr>\n",
       "  </tbody>\n",
       "</table>\n",
       "</div>"
      ],
      "text/plain": [
       "                   index  Income_Type\n",
       "0                Trading         4470\n",
       "1             Piece Jobs         2393\n",
       "2   Rely on Someone Else         1112\n",
       "3         Salaries/Wages          441\n",
       "4       Service Provider          412\n",
       "5               No Money          410\n",
       "6         Social Welfare          131\n",
       "7          Rental Income           67\n",
       "8            Investments           34\n",
       "9                Pension           34\n",
       "10                 Other            9"
      ]
     },
     "execution_count": 15,
     "metadata": {},
     "output_type": "execute_result"
    }
   ],
   "source": [
    "chart3 = pd.DataFrame(incomes['Income_Type'].value_counts()).reset_index()\n",
    "chart3"
   ]
  },
  {
   "cell_type": "code",
   "execution_count": 8,
   "metadata": {},
   "outputs": [],
   "source": [
    "females = mob_money[mob_money['Gender'] == 'Female']\n",
    "males = mob_money[mob_money['Gender'] == 'Male']"
   ]
  }
 ],
 "metadata": {
  "kernelspec": {
   "display_name": "Python 3",
   "language": "python",
   "name": "python3"
  },
  "language_info": {
   "codemirror_mode": {
    "name": "ipython",
    "version": 3
   },
   "file_extension": ".py",
   "mimetype": "text/x-python",
   "name": "python",
   "nbconvert_exporter": "python",
   "pygments_lexer": "ipython3",
   "version": "3.7.3"
  }
 },
 "nbformat": 4,
 "nbformat_minor": 4
}
